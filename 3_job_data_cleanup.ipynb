{
 "cells": [
  {
   "cell_type": "markdown",
   "id": "45f43ee8",
   "metadata": {},
   "source": [
    "## Importing libraries"
   ]
  },
  {
   "cell_type": "code",
   "execution_count": 23,
   "id": "611f9664",
   "metadata": {
    "_cell_guid": "b1076dfc-b9ad-4769-8c92-a6c4dae69d19",
    "_uuid": "8f2839f25d086af736a60e9eeb907d3b93b6e0e5",
    "execution": {
     "iopub.execute_input": "2024-04-16T16:08:52.329067Z",
     "iopub.status.busy": "2024-04-16T16:08:52.328521Z",
     "iopub.status.idle": "2024-04-16T16:08:54.182749Z",
     "shell.execute_reply": "2024-04-16T16:08:54.181746Z"
    },
    "papermill": {
     "duration": 1.865011,
     "end_time": "2024-04-16T16:08:54.185465",
     "exception": false,
     "start_time": "2024-04-16T16:08:52.320454",
     "status": "completed"
    },
    "tags": []
   },
   "outputs": [],
   "source": [
    "import numpy as np\n",
    "import pandas as pd "
   ]
  },
  {
   "cell_type": "markdown",
   "id": "d9e061df",
   "metadata": {},
   "source": [
    "## Reading concatenated datafile with skills"
   ]
  },
  {
   "cell_type": "code",
   "execution_count": 24,
   "id": "993b6b2a",
   "metadata": {
    "execution": {
     "iopub.execute_input": "2024-04-16T16:08:54.199286Z",
     "iopub.status.busy": "2024-04-16T16:08:54.198656Z",
     "iopub.status.idle": "2024-04-16T16:08:54.205021Z",
     "shell.execute_reply": "2024-04-16T16:08:54.203718Z"
    },
    "papermill": {
     "duration": 0.016183,
     "end_time": "2024-04-16T16:08:54.207620",
     "exception": false,
     "start_time": "2024-04-16T16:08:54.191437",
     "status": "completed"
    },
    "tags": []
   },
   "outputs": [],
   "source": [
    "df = pd.read_csv('job_postings.csv')"
   ]
  },
  {
   "cell_type": "markdown",
   "id": "b3ebe20e",
   "metadata": {},
   "source": [
    "## Formatting compensation info"
   ]
  },
  {
   "cell_type": "code",
   "execution_count": 25,
   "id": "b7c6a831",
   "metadata": {},
   "outputs": [],
   "source": [
    "def split_salary_range(row):\n",
    "    \"\"\"\n",
    "    Splits a salary range string into its components: compensation period, minimum range, and maximum range.\n",
    "\n",
    "    Parameters:\n",
    "    row (str): A string representing the salary range in the format '[compensation_period, min_range, max_range]'.\n",
    "               If the row is 'not specified', it returns NaN for all components.\n",
    "\n",
    "    Returns:\n",
    "    pd.Series: A pandas Series containing the following fields:\n",
    "        - 'compensation_period' (str or NaN): The period for which the compensation applies (e.g., 'yearly', 'monthly').\n",
    "        - 'min_range' (float or NaN): The minimum salary value in the range.\n",
    "        - 'max_range' (float or NaN): The maximum salary value in the range.\n",
    "    \"\"\"\n",
    "    if row == \"not specified\":\n",
    "        # If the salary is not specified, return NaN for all components\n",
    "        return pd.Series({'compensation_period': np.nan, 'min_range': np.nan, 'max_range': np.nan})\n",
    "    \n",
    "    try:\n",
    "        # Clean the string by removing brackets and splitting by commas\n",
    "        row = row.strip(\"[]\").split(\", \")\n",
    "        \n",
    "        # Check if the resulting list has the expected three components\n",
    "        if len(row) == 3:\n",
    "            compensation_period = row[0].strip()\n",
    "            min_range = float(row[1].strip())\n",
    "            max_range = float(row[2].strip())\n",
    "            # Return the components as a pandas Series\n",
    "            return pd.Series({'compensation_period': compensation_period, 'min_range': min_range, 'max_range': max_range})\n",
    "    \n",
    "    except Exception as e:\n",
    "        # Handle any errors that occur during parsing and conversion\n",
    "        print(\"Error:\", e)\n",
    "    \n",
    "    # If parsing fails, return NaN for all components\n",
    "    return pd.Series({'compensation_period': np.nan, 'min_range': np.nan, 'max_range': np.nan})\n"
   ]
  },
  {
   "cell_type": "markdown",
   "id": "a94ea171",
   "metadata": {},
   "source": [
    "### Formatting compensation info - execution"
   ]
  },
  {
   "cell_type": "code",
   "execution_count": null,
   "id": "3c4299a1",
   "metadata": {},
   "outputs": [],
   "source": [
    "# Apply the function to the DataFrame\n",
    "df[['compensation_period', 'min_range', 'max_range']] = df['salary_range'].apply(split_salary_range)\n",
    "df['ref_salary'] = df[['min_range', 'max_range']].mean(axis=1)"
   ]
  },
  {
   "cell_type": "markdown",
   "id": "16017282",
   "metadata": {},
   "source": [
    "## Saving skills data to text file (to be loaded on ChatGPT)"
   ]
  },
  {
   "cell_type": "code",
   "execution_count": 28,
   "id": "445901d0",
   "metadata": {},
   "outputs": [],
   "source": [
    "unique_skills = set()\n",
    "for skills in df['extracted_skills']:\n",
    "    skills_list = [skill for skill in skills.split(',')]\n",
    "    unique_skills.update(skills_list)\n",
    "\n",
    "# Convert the set to a sorted list\n",
    "unique_skills_list = sorted(unique_skills)\n",
    "\n",
    "with open('unique_skills_list.txt', 'w') as file:\n",
    "    for skill in unique_skills_list:\n",
    "        file.write(skill + '\\n')"
   ]
  },
  {
   "cell_type": "markdown",
   "id": "6c10970f",
   "metadata": {},
   "source": [
    "## Updating skill list with new file returned from ChatGPT"
   ]
  },
  {
   "cell_type": "code",
   "execution_count": 30,
   "id": "9fa308ec",
   "metadata": {},
   "outputs": [],
   "source": [
    "def read_skills_from_file(file_path):\n",
    "    \"\"\"\n",
    "    Reads a list of skills from a text file, one skill per line.\n",
    "\n",
    "    Parameters:\n",
    "    file_path (str): The path to the file containing the skills.\n",
    "\n",
    "    Returns:\n",
    "    list: A list of skills where each skill is stripped of leading and trailing whitespace.\n",
    "    \"\"\"\n",
    "    with open(file_path, 'r', encoding='utf-8', errors='ignore') as file:\n",
    "        skills = file.readlines()\n",
    "    # Return the list of skills, stripped of any extra whitespace\n",
    "    return [skill.strip() for skill in skills]"
   ]
  },
  {
   "cell_type": "code",
   "execution_count": 31,
   "id": "cc1b69c3",
   "metadata": {},
   "outputs": [],
   "source": [
    "# Path to the file containing standardized skills\n",
    "standardized_skills_file_path = 'standardized_skills_list.txt'\n",
    "\n",
    "# Read and process the standardized skills from the file\n",
    "standardized_skills_list = read_skills_from_file(standardized_skills_file_path)\n",
    "\n",
    "# Create a dictionary for mapping unique skills to standardized skills\n",
    "skills_mapping = dict(zip(unique_skills_list, standardized_skills_list))"
   ]
  },
  {
   "cell_type": "code",
   "execution_count": 32,
   "id": "372e28dd",
   "metadata": {},
   "outputs": [],
   "source": [
    "def update_skills(skills, mapping):\n",
    "    \"\"\"\n",
    "    Updates a comma-separated list of skills using a provided mapping dictionary.\n",
    "\n",
    "    Parameters:\n",
    "    skills (str): A comma-separated string of skills.\n",
    "    mapping (dict): A dictionary mapping original skills to standardized skills.\n",
    "\n",
    "    Returns:\n",
    "    str: A comma-separated string of updated (standardized) skills.\n",
    "    \"\"\"\n",
    "    # Split the skills string into a list and strip any extra whitespace\n",
    "    skills_list = [skill.strip() for skill in skills.split(',')]\n",
    "    # Map each skill to its standardized form, or keep it unchanged if not in the mapping\n",
    "    updated_skills = [mapping.get(skill, skill) for skill in skills_list]\n",
    "    # Return the updated skills as a comma-separated string\n",
    "    return ', '.join(updated_skills)"
   ]
  },
  {
   "cell_type": "code",
   "execution_count": 33,
   "id": "b3cc0ca4",
   "metadata": {},
   "outputs": [],
   "source": [
    "# Apply the skill update function to the 'extracted_skills' column in the DataFrame\n",
    "df['extracted_skills'] = df['extracted_skills'].apply(update_skills, args=(skills_mapping,))"
   ]
  },
  {
   "cell_type": "code",
   "execution_count": null,
   "id": "600341a4",
   "metadata": {},
   "outputs": [],
   "source": [
    "df = df[~df.isna().any(axis = 1)].shape[0]"
   ]
  },
  {
   "cell_type": "markdown",
   "id": "fafd1d31",
   "metadata": {},
   "source": [
    "## Saving file"
   ]
  },
  {
   "cell_type": "code",
   "execution_count": 34,
   "id": "6728c0f0",
   "metadata": {},
   "outputs": [],
   "source": [
    "df.to_csv('job_postings_updated.csv', index = False)"
   ]
  }
 ],
 "metadata": {
  "kaggle": {
   "accelerator": "none",
   "dataSources": [],
   "dockerImageVersionId": 30527,
   "isGpuEnabled": false,
   "isInternetEnabled": true,
   "language": "python",
   "sourceType": "notebook"
  },
  "kernelspec": {
   "display_name": "Python 3",
   "language": "python",
   "name": "python3"
  },
  "language_info": {
   "codemirror_mode": {
    "name": "ipython",
    "version": 3
   },
   "file_extension": ".py",
   "mimetype": "text/x-python",
   "name": "python",
   "nbconvert_exporter": "python",
   "pygments_lexer": "ipython3",
   "version": "3.11.9"
  },
  "papermill": {
   "default_parameters": {},
   "duration": 1758.402906,
   "end_time": "2024-04-16T16:37:56.414664",
   "environment_variables": {},
   "exception": null,
   "input_path": "__notebook__.ipynb",
   "output_path": "__notebook__.ipynb",
   "parameters": {},
   "start_time": "2024-04-16T16:08:38.011758",
   "version": "2.4.0"
  },
  "widgets": {
   "application/vnd.jupyter.widget-state+json": {
    "state": {
     "56e97d35a49c42e3a437c4f51a46a6e7": {
      "model_module": "@jupyter-widgets/controls",
      "model_module_version": "1.5.0",
      "model_name": "HTMLModel",
      "state": {
       "_dom_classes": [],
       "_model_module": "@jupyter-widgets/controls",
       "_model_module_version": "1.5.0",
       "_model_name": "HTMLModel",
       "_view_count": null,
       "_view_module": "@jupyter-widgets/controls",
       "_view_module_version": "1.5.0",
       "_view_name": "HTMLView",
       "description": "",
       "description_tooltip": null,
       "layout": "IPY_MODEL_a2ece39e4b2942b88567f9a4e38ba640",
       "placeholder": "​",
       "style": "IPY_MODEL_63c8cd71a1614cfb90232e7bb6c12bdf",
       "value": " 169M/169M [00:03&lt;00:00, 53.6MB/s]"
      }
     },
     "61bc80979f034df3b9b91ad2557fbc9d": {
      "model_module": "@jupyter-widgets/controls",
      "model_module_version": "1.5.0",
      "model_name": "ProgressStyleModel",
      "state": {
       "_model_module": "@jupyter-widgets/controls",
       "_model_module_version": "1.5.0",
       "_model_name": "ProgressStyleModel",
       "_view_count": null,
       "_view_module": "@jupyter-widgets/base",
       "_view_module_version": "1.2.0",
       "_view_name": "StyleView",
       "bar_color": null,
       "description_width": ""
      }
     },
     "63c8cd71a1614cfb90232e7bb6c12bdf": {
      "model_module": "@jupyter-widgets/controls",
      "model_module_version": "1.5.0",
      "model_name": "DescriptionStyleModel",
      "state": {
       "_model_module": "@jupyter-widgets/controls",
       "_model_module_version": "1.5.0",
       "_model_name": "DescriptionStyleModel",
       "_view_count": null,
       "_view_module": "@jupyter-widgets/base",
       "_view_module_version": "1.2.0",
       "_view_name": "StyleView",
       "description_width": ""
      }
     },
     "7788c18cb911452b98f8b7cec441037f": {
      "model_module": "@jupyter-widgets/controls",
      "model_module_version": "1.5.0",
      "model_name": "HBoxModel",
      "state": {
       "_dom_classes": [],
       "_model_module": "@jupyter-widgets/controls",
       "_model_module_version": "1.5.0",
       "_model_name": "HBoxModel",
       "_view_count": null,
       "_view_module": "@jupyter-widgets/controls",
       "_view_module_version": "1.5.0",
       "_view_name": "HBoxView",
       "box_style": "",
       "children": [
        "IPY_MODEL_a74d88cf7ad448cbb1723b9511183729",
        "IPY_MODEL_a26def6b9bc845bbb1cf624286b32497",
        "IPY_MODEL_56e97d35a49c42e3a437c4f51a46a6e7"
       ],
       "layout": "IPY_MODEL_fac7e20aae3948b4a870c1bb671dec02"
      }
     },
     "a26def6b9bc845bbb1cf624286b32497": {
      "model_module": "@jupyter-widgets/controls",
      "model_module_version": "1.5.0",
      "model_name": "FloatProgressModel",
      "state": {
       "_dom_classes": [],
       "_model_module": "@jupyter-widgets/controls",
       "_model_module_version": "1.5.0",
       "_model_name": "FloatProgressModel",
       "_view_count": null,
       "_view_module": "@jupyter-widgets/controls",
       "_view_module_version": "1.5.0",
       "_view_name": "ProgressView",
       "bar_style": "success",
       "description": "",
       "description_tooltip": null,
       "layout": "IPY_MODEL_b9e29682d7dd46d18de0f54df42f8fb8",
       "max": 169020883,
       "min": 0,
       "orientation": "horizontal",
       "style": "IPY_MODEL_61bc80979f034df3b9b91ad2557fbc9d",
       "value": 169020883
      }
     },
     "a2ece39e4b2942b88567f9a4e38ba640": {
      "model_module": "@jupyter-widgets/base",
      "model_module_version": "1.2.0",
      "model_name": "LayoutModel",
      "state": {
       "_model_module": "@jupyter-widgets/base",
       "_model_module_version": "1.2.0",
       "_model_name": "LayoutModel",
       "_view_count": null,
       "_view_module": "@jupyter-widgets/base",
       "_view_module_version": "1.2.0",
       "_view_name": "LayoutView",
       "align_content": null,
       "align_items": null,
       "align_self": null,
       "border": null,
       "bottom": null,
       "display": null,
       "flex": null,
       "flex_flow": null,
       "grid_area": null,
       "grid_auto_columns": null,
       "grid_auto_flow": null,
       "grid_auto_rows": null,
       "grid_column": null,
       "grid_gap": null,
       "grid_row": null,
       "grid_template_areas": null,
       "grid_template_columns": null,
       "grid_template_rows": null,
       "height": null,
       "justify_content": null,
       "justify_items": null,
       "left": null,
       "margin": null,
       "max_height": null,
       "max_width": null,
       "min_height": null,
       "min_width": null,
       "object_fit": null,
       "object_position": null,
       "order": null,
       "overflow": null,
       "overflow_x": null,
       "overflow_y": null,
       "padding": null,
       "right": null,
       "top": null,
       "visibility": null,
       "width": null
      }
     },
     "a74d88cf7ad448cbb1723b9511183729": {
      "model_module": "@jupyter-widgets/controls",
      "model_module_version": "1.5.0",
      "model_name": "HTMLModel",
      "state": {
       "_dom_classes": [],
       "_model_module": "@jupyter-widgets/controls",
       "_model_module_version": "1.5.0",
       "_model_name": "HTMLModel",
       "_view_count": null,
       "_view_module": "@jupyter-widgets/controls",
       "_view_module_version": "1.5.0",
       "_view_name": "HTMLView",
       "description": "",
       "description_tooltip": null,
       "layout": "IPY_MODEL_ba315d9a4ca44463b01b9f9aab717ed8",
       "placeholder": "​",
       "style": "IPY_MODEL_c7ceaaad25ae46d4bd5586c67ca212e2",
       "value": "Downloading pytorch_model.bin: 100%"
      }
     },
     "b9e29682d7dd46d18de0f54df42f8fb8": {
      "model_module": "@jupyter-widgets/base",
      "model_module_version": "1.2.0",
      "model_name": "LayoutModel",
      "state": {
       "_model_module": "@jupyter-widgets/base",
       "_model_module_version": "1.2.0",
       "_model_name": "LayoutModel",
       "_view_count": null,
       "_view_module": "@jupyter-widgets/base",
       "_view_module_version": "1.2.0",
       "_view_name": "LayoutView",
       "align_content": null,
       "align_items": null,
       "align_self": null,
       "border": null,
       "bottom": null,
       "display": null,
       "flex": null,
       "flex_flow": null,
       "grid_area": null,
       "grid_auto_columns": null,
       "grid_auto_flow": null,
       "grid_auto_rows": null,
       "grid_column": null,
       "grid_gap": null,
       "grid_row": null,
       "grid_template_areas": null,
       "grid_template_columns": null,
       "grid_template_rows": null,
       "height": null,
       "justify_content": null,
       "justify_items": null,
       "left": null,
       "margin": null,
       "max_height": null,
       "max_width": null,
       "min_height": null,
       "min_width": null,
       "object_fit": null,
       "object_position": null,
       "order": null,
       "overflow": null,
       "overflow_x": null,
       "overflow_y": null,
       "padding": null,
       "right": null,
       "top": null,
       "visibility": null,
       "width": null
      }
     },
     "ba315d9a4ca44463b01b9f9aab717ed8": {
      "model_module": "@jupyter-widgets/base",
      "model_module_version": "1.2.0",
      "model_name": "LayoutModel",
      "state": {
       "_model_module": "@jupyter-widgets/base",
       "_model_module_version": "1.2.0",
       "_model_name": "LayoutModel",
       "_view_count": null,
       "_view_module": "@jupyter-widgets/base",
       "_view_module_version": "1.2.0",
       "_view_name": "LayoutView",
       "align_content": null,
       "align_items": null,
       "align_self": null,
       "border": null,
       "bottom": null,
       "display": null,
       "flex": null,
       "flex_flow": null,
       "grid_area": null,
       "grid_auto_columns": null,
       "grid_auto_flow": null,
       "grid_auto_rows": null,
       "grid_column": null,
       "grid_gap": null,
       "grid_row": null,
       "grid_template_areas": null,
       "grid_template_columns": null,
       "grid_template_rows": null,
       "height": null,
       "justify_content": null,
       "justify_items": null,
       "left": null,
       "margin": null,
       "max_height": null,
       "max_width": null,
       "min_height": null,
       "min_width": null,
       "object_fit": null,
       "object_position": null,
       "order": null,
       "overflow": null,
       "overflow_x": null,
       "overflow_y": null,
       "padding": null,
       "right": null,
       "top": null,
       "visibility": null,
       "width": null
      }
     },
     "c7ceaaad25ae46d4bd5586c67ca212e2": {
      "model_module": "@jupyter-widgets/controls",
      "model_module_version": "1.5.0",
      "model_name": "DescriptionStyleModel",
      "state": {
       "_model_module": "@jupyter-widgets/controls",
       "_model_module_version": "1.5.0",
       "_model_name": "DescriptionStyleModel",
       "_view_count": null,
       "_view_module": "@jupyter-widgets/base",
       "_view_module_version": "1.2.0",
       "_view_name": "StyleView",
       "description_width": ""
      }
     },
     "fac7e20aae3948b4a870c1bb671dec02": {
      "model_module": "@jupyter-widgets/base",
      "model_module_version": "1.2.0",
      "model_name": "LayoutModel",
      "state": {
       "_model_module": "@jupyter-widgets/base",
       "_model_module_version": "1.2.0",
       "_model_name": "LayoutModel",
       "_view_count": null,
       "_view_module": "@jupyter-widgets/base",
       "_view_module_version": "1.2.0",
       "_view_name": "LayoutView",
       "align_content": null,
       "align_items": null,
       "align_self": null,
       "border": null,
       "bottom": null,
       "display": null,
       "flex": null,
       "flex_flow": null,
       "grid_area": null,
       "grid_auto_columns": null,
       "grid_auto_flow": null,
       "grid_auto_rows": null,
       "grid_column": null,
       "grid_gap": null,
       "grid_row": null,
       "grid_template_areas": null,
       "grid_template_columns": null,
       "grid_template_rows": null,
       "height": null,
       "justify_content": null,
       "justify_items": null,
       "left": null,
       "margin": null,
       "max_height": null,
       "max_width": null,
       "min_height": null,
       "min_width": null,
       "object_fit": null,
       "object_position": null,
       "order": null,
       "overflow": null,
       "overflow_x": null,
       "overflow_y": null,
       "padding": null,
       "right": null,
       "top": null,
       "visibility": null,
       "width": null
      }
     }
    },
    "version_major": 2,
    "version_minor": 0
   }
  }
 },
 "nbformat": 4,
 "nbformat_minor": 5
}
