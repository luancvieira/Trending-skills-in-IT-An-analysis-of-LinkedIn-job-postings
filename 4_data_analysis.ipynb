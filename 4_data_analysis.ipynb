{
 "cells": [
  {
   "cell_type": "markdown",
   "id": "061df1f5",
   "metadata": {},
   "source": [
    "## Importing libraries"
   ]
  },
  {
   "cell_type": "code",
   "execution_count": null,
   "id": "611f9664",
   "metadata": {
    "_cell_guid": "b1076dfc-b9ad-4769-8c92-a6c4dae69d19",
    "_uuid": "8f2839f25d086af736a60e9eeb907d3b93b6e0e5",
    "execution": {
     "iopub.execute_input": "2024-04-16T16:08:52.329067Z",
     "iopub.status.busy": "2024-04-16T16:08:52.328521Z",
     "iopub.status.idle": "2024-04-16T16:08:54.182749Z",
     "shell.execute_reply": "2024-04-16T16:08:54.181746Z"
    },
    "papermill": {
     "duration": 1.865011,
     "end_time": "2024-04-16T16:08:54.185465",
     "exception": false,
     "start_time": "2024-04-16T16:08:52.320454",
     "status": "completed"
    },
    "tags": []
   },
   "outputs": [],
   "source": [
    "import numpy as np\n",
    "import pandas as pd \n",
    "import matplotlib.pyplot as plt\n",
    "import os\n",
    "import seaborn as sns\n",
    "from matplotlib.ticker import FuncFormatter\n",
    "from sklearn.preprocessing import MultiLabelBinarizer"
   ]
  },
  {
   "cell_type": "markdown",
   "id": "681e2a6f",
   "metadata": {},
   "source": [
    "## Loading data"
   ]
  },
  {
   "cell_type": "code",
   "execution_count": null,
   "id": "993b6b2a",
   "metadata": {
    "execution": {
     "iopub.execute_input": "2024-04-16T16:08:54.199286Z",
     "iopub.status.busy": "2024-04-16T16:08:54.198656Z",
     "iopub.status.idle": "2024-04-16T16:08:54.205021Z",
     "shell.execute_reply": "2024-04-16T16:08:54.203718Z"
    },
    "papermill": {
     "duration": 0.016183,
     "end_time": "2024-04-16T16:08:54.207620",
     "exception": false,
     "start_time": "2024-04-16T16:08:54.191437",
     "status": "completed"
    },
    "tags": []
   },
   "outputs": [],
   "source": [
    "postings_df = pd.read_csv('job_postings_updated.csv')"
   ]
  },
  {
   "cell_type": "code",
   "execution_count": null,
   "id": "8c8c4079",
   "metadata": {},
   "outputs": [],
   "source": [
    "# jobs with salary info\n",
    "postings_df[~postings_df.isna().any(axis = 1)].shape[0]"
   ]
  },
  {
   "cell_type": "code",
   "execution_count": null,
   "id": "15d9be6e",
   "metadata": {},
   "outputs": [],
   "source": [
    "# salaries bigger than $100k\n",
    "postings_df[postings_df['ref_salary'] > 100000].shape[0]"
   ]
  },
  {
   "cell_type": "code",
   "execution_count": null,
   "id": "1ef23f51",
   "metadata": {},
   "outputs": [],
   "source": [
    "postings_df['ref_salary'].describe()"
   ]
  },
  {
   "cell_type": "code",
   "execution_count": null,
   "id": "ff8db2fd",
   "metadata": {},
   "outputs": [],
   "source": [
    "postings_df.head()"
   ]
  },
  {
   "cell_type": "markdown",
   "id": "c153f426",
   "metadata": {},
   "source": [
    "## Position/ Job level table"
   ]
  },
  {
   "cell_type": "markdown",
   "id": "dfc093b3",
   "metadata": {},
   "source": [
    "### All"
   ]
  },
  {
   "cell_type": "code",
   "execution_count": null,
   "id": "5e3cbb52",
   "metadata": {},
   "outputs": [],
   "source": [
    "grouped_df = pd.crosstab(postings_df['position'], postings_df['levelMapping'], margins=True).reset_index()\n",
    "grouped_df.columns.name = None"
   ]
  },
  {
   "cell_type": "code",
   "execution_count": null,
   "id": "5f29380c",
   "metadata": {},
   "outputs": [],
   "source": [
    "grouped_df"
   ]
  },
  {
   "cell_type": "markdown",
   "id": "2de1e1bd",
   "metadata": {},
   "source": [
    "### With salary"
   ]
  },
  {
   "cell_type": "code",
   "execution_count": null,
   "id": "ef597d2d",
   "metadata": {},
   "outputs": [],
   "source": [
    "postings_df_with_salary = postings_df[~postings_df.isna().any(axis = 1)]"
   ]
  },
  {
   "cell_type": "code",
   "execution_count": null,
   "id": "2c79490d",
   "metadata": {},
   "outputs": [],
   "source": [
    "grouped_df = pd.crosstab(postings_df_with_salary['position'], postings_df_with_salary['levelMapping'], margins=True).reset_index()\n",
    "grouped_df.columns.name = None"
   ]
  },
  {
   "cell_type": "code",
   "execution_count": null,
   "id": "212a8ca7",
   "metadata": {},
   "outputs": [],
   "source": [
    "grouped_df"
   ]
  },
  {
   "cell_type": "markdown",
   "id": "255bed8b",
   "metadata": {},
   "source": [
    "## Filtered data by job level"
   ]
  },
  {
   "cell_type": "code",
   "execution_count": null,
   "id": "c790b613",
   "metadata": {},
   "outputs": [],
   "source": [
    "# Assuming levelMapping has three possible values: 'Beginner', 'Intermediate', 'Advanced'\n",
    "beginner_df = postings_df[postings_df['levelMapping'] == 'associate']\n",
    "intermediate_df = postings_df[postings_df['levelMapping'] == 'entry_level']\n",
    "advanced_df = postings_df[postings_df['levelMapping'] == 'mid_senior']"
   ]
  },
  {
   "cell_type": "markdown",
   "id": "3be2d7b3",
   "metadata": {},
   "source": [
    "## Skill counts"
   ]
  },
  {
   "cell_type": "code",
   "execution_count": null,
   "id": "6702a424",
   "metadata": {},
   "outputs": [],
   "source": [
    "postings_df['skills'] = postings_df['extracted_skills'].apply(lambda x: ', '.join(x) if isinstance(x, list) else x)\n",
    "postings_df['skills_list'] = postings_df['skills'].str.split(', ')\n",
    "skill_df = postings_df.explode('skills_list')\n",
    "skill_counts = skill_df['skills_list'].str.title().value_counts()\n",
    "print(skill_counts)"
   ]
  },
  {
   "cell_type": "markdown",
   "id": "dcaaefee",
   "metadata": {},
   "source": [
    "## Top 50 skills plot"
   ]
  },
  {
   "cell_type": "code",
   "execution_count": null,
   "id": "cc4d3df5",
   "metadata": {},
   "outputs": [],
   "source": [
    "color_map = plt.colormaps.get_cmap('turbo')\n",
    "colors = color_map(np.linspace(0.3, 0.8, 50))\n",
    "\n",
    "plt.figure(figsize=(8, 18))\n",
    "bars = skill_counts[:50].sort_values(ascending=True).plot(kind='barh', color=colors)\n",
    "\n",
    "for bar in bars.patches:\n",
    "    plt.text(\n",
    "        bar.get_width() + 60,  \n",
    "        bar.get_y() + bar.get_height() / 2,  \n",
    "        f'{int(bar.get_width())}', \n",
    "        ha='center', va='center', fontsize=12, color='black'\n",
    "    )\n",
    "bars.set_ylabel('')\n",
    "plt.yticks(fontsize=12)\n",
    "\n",
    "plt.xlim(0, skill_counts.max() + 135) \n",
    "plt.savefig('figures/top50skills.jpeg', bbox_inches='tight')\n",
    "\n",
    "plt.show()"
   ]
  },
  {
   "cell_type": "markdown",
   "id": "38135e85",
   "metadata": {},
   "source": [
    "## Salary histogram plot"
   ]
  },
  {
   "cell_type": "code",
   "execution_count": null,
   "id": "4ed4d0e4",
   "metadata": {},
   "outputs": [],
   "source": [
    "\n",
    "plt.figure(figsize=(10, 6))\n",
    "sns.histplot(x=postings_df['ref_salary'])\n",
    "plt.xlabel('Reference salary')\n",
    "plt.savefig('figures/salary.jpeg', bbox_inches='tight')\n",
    "plt.show()"
   ]
  },
  {
   "cell_type": "markdown",
   "id": "75ad779f",
   "metadata": {},
   "source": [
    "## Boxplot of salary for each search string"
   ]
  },
  {
   "cell_type": "code",
   "execution_count": null,
   "id": "da5d1f31",
   "metadata": {},
   "outputs": [],
   "source": [
    "# Create the boxplot\n",
    "fig, ax = plt.subplots(figsize=(10, 5))  # Adjusted height to make the figure more horizontal\n",
    "postings_df.boxplot(column='ref_salary', by='position', vert=False, patch_artist=True, showfliers=False, widths=0.7, ax=ax)\n",
    "\n",
    "ax.set_title('')\n",
    "ax.set_ylabel('')\n",
    "fig.suptitle('')\n",
    "\n",
    "# Rotate x-ticks 90 degrees\n",
    "ax.set_xticklabels(ax.get_xticklabels(), ha='center', fontsize=13)\n",
    "ax.tick_params(axis='y', labelsize=13)\n",
    "\n",
    "# Format the x-ticks using a lambda function\n",
    "ax.xaxis.set_major_formatter(FuncFormatter(lambda x, _: f'${x/1000:.0f}k'))\n",
    "\n",
    "# Adjust layout\n",
    "fig.tight_layout(pad=2.0, w_pad=2.0, h_pad=2.0)\n",
    "\n",
    "# Save the figure\n",
    "fig.savefig('figures/boxplots_positions.jpeg', bbox_inches='tight')\n",
    "\n",
    "plt.show()"
   ]
  },
  {
   "cell_type": "markdown",
   "id": "542ff54c",
   "metadata": {},
   "source": [
    "## Boxplot of salary for each job level"
   ]
  },
  {
   "cell_type": "code",
   "execution_count": null,
   "id": "78550cf2",
   "metadata": {},
   "outputs": [],
   "source": [
    "# Create the boxplot\n",
    "fig, ax = plt.subplots(figsize=(10, 5))  # Adjusted height to make the figure more horizontal\n",
    "postings_df.boxplot(column='ref_salary', by='levelMapping', vert=False, patch_artist=True, showfliers=False, widths=0.7, ax=ax)\n",
    "\n",
    "ax.set_title('')\n",
    "ax.set_ylabel('')\n",
    "fig.suptitle('')\n",
    "\n",
    "# Rotate x-ticks 90 degrees\n",
    "ax.set_xticklabels(ax.get_xticklabels(), ha='center', fontsize=13)\n",
    "ax.tick_params(axis='y', labelsize=13)\n",
    "\n",
    "yticks = [tick.get_text() for tick in ax.get_yticklabels()]\n",
    "ytick_labels = ['mid/ senior' if tick == 'mid_senior' else 'entry level' if tick == 'entry_level' else tick for tick in yticks]\n",
    "ax.set_yticklabels(ytick_labels)\n",
    "\n",
    "# Format the x-ticks using a lambda function\n",
    "ax.xaxis.set_major_formatter(FuncFormatter(lambda x, _: f'${x/1000:.0f}k'))\n",
    "\n",
    "# Adjust layout\n",
    "fig.tight_layout(pad=2.0, w_pad=2.0, h_pad=2.0)\n",
    "\n",
    "# Save the figure\n",
    "fig.savefig('figures/boxplots_levels.jpeg', bbox_inches='tight')\n",
    "\n",
    "plt.show()"
   ]
  },
  {
   "cell_type": "markdown",
   "id": "d5e9eee8",
   "metadata": {},
   "source": [
    "## Skills with salary info"
   ]
  },
  {
   "cell_type": "code",
   "execution_count": null,
   "id": "05eb573c",
   "metadata": {},
   "outputs": [],
   "source": [
    "# Create a binary matrix for the skills\n",
    "skills = list(set(skill for sublist in postings_df['skills_list'] for skill in sublist))\n",
    "skills_matrix = pd.DataFrame(0, index=postings_df.index, columns=skills)\n",
    "\n",
    "for i, skills_list in enumerate(postings_df['skills_list']):\n",
    "    for skill in skills_list:\n",
    "        skills_matrix.at[i, skill] = 1\n",
    "\n",
    "# Concatenate the skills matrix with the original dataframe\n",
    "postings_df = pd.concat([postings_df, skills_matrix], axis=1)\n",
    "\n",
    "# Calculate the mean salary for each skill\n",
    "skill_salary = postings_df[skills].multiply(postings_df['ref_salary'], axis=0)\n",
    "skill_salary_mean = skill_salary.sum() / postings_df[skills].sum()\n",
    "# Calculate the count of each skill\n",
    "skill_count = postings_df[skills].sum()"
   ]
  },
  {
   "cell_type": "code",
   "execution_count": null,
   "id": "5cb7d8d4",
   "metadata": {},
   "outputs": [],
   "source": [
    "# Combine the mean salary and count into a single DataFrame\n",
    "skill_stats = pd.DataFrame({'mean_salary': skill_salary_mean, 'count': skill_count})"
   ]
  },
  {
   "cell_type": "code",
   "execution_count": null,
   "id": "947a8b93",
   "metadata": {},
   "outputs": [],
   "source": [
    "# Filter out skills with mean salary greater than zero\n",
    "filtered_skill_stats = skill_stats[skill_stats['mean_salary'] > 0]\n",
    "\n",
    "# Order by biggest mean salary\n",
    "filtered_skill_stats = filtered_skill_stats.sort_values(by='mean_salary', ascending=False)\n",
    "\n",
    "# Display the filtered and ordered DataFrame\n",
    "filtered_skill_stats.to_csv('skills_salary_info.csv')"
   ]
  },
  {
   "cell_type": "code",
   "execution_count": null,
   "id": "891ebf3c",
   "metadata": {},
   "outputs": [],
   "source": [
    "skill_salary_df = postings_df.explode('skills_list')\n",
    "\n",
    "# Get the top 50 skills by count\n",
    "top_50_skills = skill_salary_df['skills_list'].value_counts().nlargest(50).sort_values(ascending=True).index\n",
    "\n",
    "# Filter the DataFrame to include only the top 50 skills\n",
    "filtered_df = skill_salary_df[skill_salary_df['skills_list'].isin(top_50_skills)]"
   ]
  },
  {
   "cell_type": "code",
   "execution_count": null,
   "id": "1b8a2f03",
   "metadata": {},
   "outputs": [],
   "source": [
    "top_50_skills"
   ]
  },
  {
   "cell_type": "markdown",
   "id": "415326bb",
   "metadata": {},
   "source": [
    "## Boxplot salary when the job description contains the skill in the top 50 skills"
   ]
  },
  {
   "cell_type": "code",
   "execution_count": null,
   "id": "843e66e6",
   "metadata": {},
   "outputs": [],
   "source": [
    "fig, ax = plt.subplots(figsize=(5, 10)) \n",
    "filtered_df.boxplot(column='ref_salary', by='skills_list', vert=False, patch_artist=True, showfliers=False, widths=0.7, ax=ax)\n",
    "\n",
    "ax.set_title('')\n",
    "ax.set_ylabel('')\n",
    "fig.suptitle('')\n",
    "\n",
    "# Reduce the y-ticks font size\n",
    "ax.set_yticklabels(ax.get_yticklabels(), rotation=0, ha='right', fontsize=12)\n",
    "ax.tick_params(axis='x', labelsize=12)\n",
    "\n",
    "# Format the x-ticks using a lambda function\n",
    "ax.xaxis.set_major_formatter(FuncFormatter(lambda x, _: f'${x/1000:.0f}k'))\n",
    "\n",
    "# Adjust layout\n",
    "fig.tight_layout(pad=2.0, w_pad=2.0, h_pad=2.0)\n",
    "\n",
    "# Save the figure\n",
    "fig.savefig('figures/boxplots_skills.jpeg', bbox_inches='tight')\n",
    "\n",
    "plt.show()"
   ]
  },
  {
   "cell_type": "markdown",
   "id": "0968abdd",
   "metadata": {},
   "source": [
    "## Point-Biserial Correlation"
   ]
  },
  {
   "cell_type": "code",
   "execution_count": null,
   "id": "8af3d49c",
   "metadata": {},
   "outputs": [],
   "source": [
    "# Create a binary matrix for skills\n",
    "mlb = MultiLabelBinarizer(classes = top_50_skills)\n",
    "skills_encoded = mlb.fit_transform(postings_df_with_salary['skills_list'])\n",
    "skills_df = pd.DataFrame(skills_encoded, columns=mlb.classes_)\n",
    "\n",
    "# Include the salary in the DataFrame\n",
    "skills_df['ref_salary'] = postings_df_with_salary['ref_salary'].values\n",
    "\n",
    "# Calculate the correlation matrix for skills and salary\n",
    "skill_salary_corr = skills_df.corr()\n",
    "\n",
    "# Extract the correlation of skills with salary\n",
    "skill_salary_corr_with_salary = skill_salary_corr['ref_salary'].drop('ref_salary')\n"
   ]
  },
  {
   "cell_type": "code",
   "execution_count": null,
   "id": "6846f715",
   "metadata": {},
   "outputs": [],
   "source": [
    "import matplotlib.pyplot as plt\n",
    "\n",
    "# Sort the correlations by value\n",
    "sorted_corr = skill_salary_corr_with_salary.sort_values()\n",
    "\n",
    "# Plot the correlations\n",
    "plt.figure(figsize=(10, 8))\n",
    "sorted_corr.plot(kind='barh')\n",
    "plt.xlabel('Correlation Coefficient', fontsize=14)\n",
    "plt.xticks(fontsize=11)\n",
    "plt.yticks(fontsize=11)\n",
    "plt.grid(True)\n",
    "plt.tight_layout()\n",
    "plt.savefig('figures/salary_corr.jpeg', bbox_inches='tight')\n",
    "plt.show()\n"
   ]
  },
  {
   "cell_type": "markdown",
   "id": "5a59754e",
   "metadata": {},
   "source": [
    "## Phi correlation"
   ]
  },
  {
   "cell_type": "code",
   "execution_count": null,
   "id": "edeb9c00",
   "metadata": {},
   "outputs": [],
   "source": [
    "# Compute the co-occurrence matrix for skills\n",
    "skills_co_occurrence_matrix = np.dot(skills_df.iloc[:, :-1].T, skills_df.iloc[:, :-1])\n",
    "\n",
    "# Convert the co-occurrence matrix to a DataFrame for better readability\n",
    "skills_co_occurrence_df = pd.DataFrame(skills_co_occurrence_matrix, index=mlb.classes_, columns=mlb.classes_)\n",
    "\n",
    "# Calculate the correlation matrix for the co-occurrence matrix\n",
    "skills_co_occurrence_corr = skills_co_occurrence_df.corr()\n",
    "\n",
    "# Plotting the skill co-occurrence correlation matrix using seaborn\n",
    "plt.figure(figsize=(12, 10))\n",
    "\n",
    "sns.heatmap(skills_co_occurrence_corr, cmap='coolwarm', annot=False, fmt=\".2f\")\n",
    "plt.xticks(rotation=90, fontsize=11)\n",
    "plt.yticks(fontsize=11)\n",
    "plt.savefig('figures/skill_corr.jpeg', bbox_inches='tight')\n",
    "plt.show()"
   ]
  },
  {
   "cell_type": "markdown",
   "id": "d0a5a7d7",
   "metadata": {},
   "source": [
    "## Skills clusters"
   ]
  }
 ],
 "metadata": {
  "kaggle": {
   "accelerator": "none",
   "dataSources": [],
   "dockerImageVersionId": 30527,
   "isGpuEnabled": false,
   "isInternetEnabled": true,
   "language": "python",
   "sourceType": "notebook"
  },
  "kernelspec": {
   "display_name": "Python 3",
   "language": "python",
   "name": "python3"
  },
  "language_info": {
   "codemirror_mode": {
    "name": "ipython",
    "version": 3
   },
   "file_extension": ".py",
   "mimetype": "text/x-python",
   "name": "python",
   "nbconvert_exporter": "python",
   "pygments_lexer": "ipython3",
   "version": "3.11.9"
  },
  "papermill": {
   "default_parameters": {},
   "duration": 1758.402906,
   "end_time": "2024-04-16T16:37:56.414664",
   "environment_variables": {},
   "exception": null,
   "input_path": "__notebook__.ipynb",
   "output_path": "__notebook__.ipynb",
   "parameters": {},
   "start_time": "2024-04-16T16:08:38.011758",
   "version": "2.4.0"
  },
  "widgets": {
   "application/vnd.jupyter.widget-state+json": {
    "state": {
     "56e97d35a49c42e3a437c4f51a46a6e7": {
      "model_module": "@jupyter-widgets/controls",
      "model_module_version": "1.5.0",
      "model_name": "HTMLModel",
      "state": {
       "_dom_classes": [],
       "_model_module": "@jupyter-widgets/controls",
       "_model_module_version": "1.5.0",
       "_model_name": "HTMLModel",
       "_view_count": null,
       "_view_module": "@jupyter-widgets/controls",
       "_view_module_version": "1.5.0",
       "_view_name": "HTMLView",
       "description": "",
       "description_tooltip": null,
       "layout": "IPY_MODEL_a2ece39e4b2942b88567f9a4e38ba640",
       "placeholder": "​",
       "style": "IPY_MODEL_63c8cd71a1614cfb90232e7bb6c12bdf",
       "value": " 169M/169M [00:03&lt;00:00, 53.6MB/s]"
      }
     },
     "61bc80979f034df3b9b91ad2557fbc9d": {
      "model_module": "@jupyter-widgets/controls",
      "model_module_version": "1.5.0",
      "model_name": "ProgressStyleModel",
      "state": {
       "_model_module": "@jupyter-widgets/controls",
       "_model_module_version": "1.5.0",
       "_model_name": "ProgressStyleModel",
       "_view_count": null,
       "_view_module": "@jupyter-widgets/base",
       "_view_module_version": "1.2.0",
       "_view_name": "StyleView",
       "bar_color": null,
       "description_width": ""
      }
     },
     "63c8cd71a1614cfb90232e7bb6c12bdf": {
      "model_module": "@jupyter-widgets/controls",
      "model_module_version": "1.5.0",
      "model_name": "DescriptionStyleModel",
      "state": {
       "_model_module": "@jupyter-widgets/controls",
       "_model_module_version": "1.5.0",
       "_model_name": "DescriptionStyleModel",
       "_view_count": null,
       "_view_module": "@jupyter-widgets/base",
       "_view_module_version": "1.2.0",
       "_view_name": "StyleView",
       "description_width": ""
      }
     },
     "7788c18cb911452b98f8b7cec441037f": {
      "model_module": "@jupyter-widgets/controls",
      "model_module_version": "1.5.0",
      "model_name": "HBoxModel",
      "state": {
       "_dom_classes": [],
       "_model_module": "@jupyter-widgets/controls",
       "_model_module_version": "1.5.0",
       "_model_name": "HBoxModel",
       "_view_count": null,
       "_view_module": "@jupyter-widgets/controls",
       "_view_module_version": "1.5.0",
       "_view_name": "HBoxView",
       "box_style": "",
       "children": [
        "IPY_MODEL_a74d88cf7ad448cbb1723b9511183729",
        "IPY_MODEL_a26def6b9bc845bbb1cf624286b32497",
        "IPY_MODEL_56e97d35a49c42e3a437c4f51a46a6e7"
       ],
       "layout": "IPY_MODEL_fac7e20aae3948b4a870c1bb671dec02"
      }
     },
     "a26def6b9bc845bbb1cf624286b32497": {
      "model_module": "@jupyter-widgets/controls",
      "model_module_version": "1.5.0",
      "model_name": "FloatProgressModel",
      "state": {
       "_dom_classes": [],
       "_model_module": "@jupyter-widgets/controls",
       "_model_module_version": "1.5.0",
       "_model_name": "FloatProgressModel",
       "_view_count": null,
       "_view_module": "@jupyter-widgets/controls",
       "_view_module_version": "1.5.0",
       "_view_name": "ProgressView",
       "bar_style": "success",
       "description": "",
       "description_tooltip": null,
       "layout": "IPY_MODEL_b9e29682d7dd46d18de0f54df42f8fb8",
       "max": 169020883,
       "min": 0,
       "orientation": "horizontal",
       "style": "IPY_MODEL_61bc80979f034df3b9b91ad2557fbc9d",
       "value": 169020883
      }
     },
     "a2ece39e4b2942b88567f9a4e38ba640": {
      "model_module": "@jupyter-widgets/base",
      "model_module_version": "1.2.0",
      "model_name": "LayoutModel",
      "state": {
       "_model_module": "@jupyter-widgets/base",
       "_model_module_version": "1.2.0",
       "_model_name": "LayoutModel",
       "_view_count": null,
       "_view_module": "@jupyter-widgets/base",
       "_view_module_version": "1.2.0",
       "_view_name": "LayoutView",
       "align_content": null,
       "align_items": null,
       "align_self": null,
       "border": null,
       "bottom": null,
       "display": null,
       "flex": null,
       "flex_flow": null,
       "grid_area": null,
       "grid_auto_columns": null,
       "grid_auto_flow": null,
       "grid_auto_rows": null,
       "grid_column": null,
       "grid_gap": null,
       "grid_row": null,
       "grid_template_areas": null,
       "grid_template_columns": null,
       "grid_template_rows": null,
       "height": null,
       "justify_content": null,
       "justify_items": null,
       "left": null,
       "margin": null,
       "max_height": null,
       "max_width": null,
       "min_height": null,
       "min_width": null,
       "object_fit": null,
       "object_position": null,
       "order": null,
       "overflow": null,
       "overflow_x": null,
       "overflow_y": null,
       "padding": null,
       "right": null,
       "top": null,
       "visibility": null,
       "width": null
      }
     },
     "a74d88cf7ad448cbb1723b9511183729": {
      "model_module": "@jupyter-widgets/controls",
      "model_module_version": "1.5.0",
      "model_name": "HTMLModel",
      "state": {
       "_dom_classes": [],
       "_model_module": "@jupyter-widgets/controls",
       "_model_module_version": "1.5.0",
       "_model_name": "HTMLModel",
       "_view_count": null,
       "_view_module": "@jupyter-widgets/controls",
       "_view_module_version": "1.5.0",
       "_view_name": "HTMLView",
       "description": "",
       "description_tooltip": null,
       "layout": "IPY_MODEL_ba315d9a4ca44463b01b9f9aab717ed8",
       "placeholder": "​",
       "style": "IPY_MODEL_c7ceaaad25ae46d4bd5586c67ca212e2",
       "value": "Downloading pytorch_model.bin: 100%"
      }
     },
     "b9e29682d7dd46d18de0f54df42f8fb8": {
      "model_module": "@jupyter-widgets/base",
      "model_module_version": "1.2.0",
      "model_name": "LayoutModel",
      "state": {
       "_model_module": "@jupyter-widgets/base",
       "_model_module_version": "1.2.0",
       "_model_name": "LayoutModel",
       "_view_count": null,
       "_view_module": "@jupyter-widgets/base",
       "_view_module_version": "1.2.0",
       "_view_name": "LayoutView",
       "align_content": null,
       "align_items": null,
       "align_self": null,
       "border": null,
       "bottom": null,
       "display": null,
       "flex": null,
       "flex_flow": null,
       "grid_area": null,
       "grid_auto_columns": null,
       "grid_auto_flow": null,
       "grid_auto_rows": null,
       "grid_column": null,
       "grid_gap": null,
       "grid_row": null,
       "grid_template_areas": null,
       "grid_template_columns": null,
       "grid_template_rows": null,
       "height": null,
       "justify_content": null,
       "justify_items": null,
       "left": null,
       "margin": null,
       "max_height": null,
       "max_width": null,
       "min_height": null,
       "min_width": null,
       "object_fit": null,
       "object_position": null,
       "order": null,
       "overflow": null,
       "overflow_x": null,
       "overflow_y": null,
       "padding": null,
       "right": null,
       "top": null,
       "visibility": null,
       "width": null
      }
     },
     "ba315d9a4ca44463b01b9f9aab717ed8": {
      "model_module": "@jupyter-widgets/base",
      "model_module_version": "1.2.0",
      "model_name": "LayoutModel",
      "state": {
       "_model_module": "@jupyter-widgets/base",
       "_model_module_version": "1.2.0",
       "_model_name": "LayoutModel",
       "_view_count": null,
       "_view_module": "@jupyter-widgets/base",
       "_view_module_version": "1.2.0",
       "_view_name": "LayoutView",
       "align_content": null,
       "align_items": null,
       "align_self": null,
       "border": null,
       "bottom": null,
       "display": null,
       "flex": null,
       "flex_flow": null,
       "grid_area": null,
       "grid_auto_columns": null,
       "grid_auto_flow": null,
       "grid_auto_rows": null,
       "grid_column": null,
       "grid_gap": null,
       "grid_row": null,
       "grid_template_areas": null,
       "grid_template_columns": null,
       "grid_template_rows": null,
       "height": null,
       "justify_content": null,
       "justify_items": null,
       "left": null,
       "margin": null,
       "max_height": null,
       "max_width": null,
       "min_height": null,
       "min_width": null,
       "object_fit": null,
       "object_position": null,
       "order": null,
       "overflow": null,
       "overflow_x": null,
       "overflow_y": null,
       "padding": null,
       "right": null,
       "top": null,
       "visibility": null,
       "width": null
      }
     },
     "c7ceaaad25ae46d4bd5586c67ca212e2": {
      "model_module": "@jupyter-widgets/controls",
      "model_module_version": "1.5.0",
      "model_name": "DescriptionStyleModel",
      "state": {
       "_model_module": "@jupyter-widgets/controls",
       "_model_module_version": "1.5.0",
       "_model_name": "DescriptionStyleModel",
       "_view_count": null,
       "_view_module": "@jupyter-widgets/base",
       "_view_module_version": "1.2.0",
       "_view_name": "StyleView",
       "description_width": ""
      }
     },
     "fac7e20aae3948b4a870c1bb671dec02": {
      "model_module": "@jupyter-widgets/base",
      "model_module_version": "1.2.0",
      "model_name": "LayoutModel",
      "state": {
       "_model_module": "@jupyter-widgets/base",
       "_model_module_version": "1.2.0",
       "_model_name": "LayoutModel",
       "_view_count": null,
       "_view_module": "@jupyter-widgets/base",
       "_view_module_version": "1.2.0",
       "_view_name": "LayoutView",
       "align_content": null,
       "align_items": null,
       "align_self": null,
       "border": null,
       "bottom": null,
       "display": null,
       "flex": null,
       "flex_flow": null,
       "grid_area": null,
       "grid_auto_columns": null,
       "grid_auto_flow": null,
       "grid_auto_rows": null,
       "grid_column": null,
       "grid_gap": null,
       "grid_row": null,
       "grid_template_areas": null,
       "grid_template_columns": null,
       "grid_template_rows": null,
       "height": null,
       "justify_content": null,
       "justify_items": null,
       "left": null,
       "margin": null,
       "max_height": null,
       "max_width": null,
       "min_height": null,
       "min_width": null,
       "object_fit": null,
       "object_position": null,
       "order": null,
       "overflow": null,
       "overflow_x": null,
       "overflow_y": null,
       "padding": null,
       "right": null,
       "top": null,
       "visibility": null,
       "width": null
      }
     }
    },
    "version_major": 2,
    "version_minor": 0
   }
  }
 },
 "nbformat": 4,
 "nbformat_minor": 5
}
